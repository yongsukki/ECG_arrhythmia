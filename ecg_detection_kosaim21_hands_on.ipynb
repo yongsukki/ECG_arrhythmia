{
  "nbformat": 4,
  "nbformat_minor": 5,
  "metadata": {
    "kernelspec": {
      "display_name": "torch",
      "language": "python",
      "name": "lims1_torch"
    },
    "language_info": {
      "codemirror_mode": {
        "name": "ipython",
        "version": 3
      },
      "file_extension": ".py",
      "mimetype": "text/x-python",
      "name": "python",
      "nbconvert_exporter": "python",
      "pygments_lexer": "ipython3",
      "version": "3.8.5"
    },
    "colab": {
      "name": "ecg_detection_kosaim21_hands_on.ipynb",
      "provenance": [],
      "include_colab_link": true
    }
  },
  "cells": [
    {
      "cell_type": "markdown",
      "metadata": {
        "id": "view-in-github",
        "colab_type": "text"
      },
      "source": [
        "<a href=\"https://colab.research.google.com/github/hyunlimy/ECG_arrhythmia/blob/main/ecg_detection_kosaim21_hands_on.ipynb\" target=\"_parent\"><img src=\"https://colab.research.google.com/assets/colab-badge.svg\" alt=\"Open In Colab\"/></a>"
      ]
    },
    {
      "cell_type": "markdown",
      "metadata": {
        "id": "impossible-sacramento"
      },
      "source": [
        "# KoSAIM 2021 춘계학술대회 <br> Hands-On Session II <br>생체 신호 분석의 실제 - (2) 심전도 분석 \n",
        "- May. 21, 2021\n",
        "- Author : **Hyun-Lim Yang, Ph.D.**<br>\n",
        "Research Assistant Professor @\n",
        "Seoul National University Hospital\n",
        "- E-mail : hly{_at_}snuh{_dot_}org\n",
        "***"
      ],
      "id": "impossible-sacramento"
    },
    {
      "cell_type": "markdown",
      "metadata": {
        "id": "downtown-bangkok"
      },
      "source": [
        "\n",
        "## 0. Goal\n",
        "#### Heart Arrhythmia Detection from ECG waveform with Deep  Learning model\n",
        "본 강의에서는 **딥러닝을 이용해서 ECG waveform을 분석하고 arrhythmia를 예측하는 방법**을 알아봅니다.<br>\n",
        "아래의 온라인 자료들을 활용하여 더 많은 정보를 확인할 수 있습니다.<br>\n",
        "(본 강의도 아래 자료의 일부 내용을 참고하였습니다.)<br>\n",
        ">Reference source: <br>\n",
        "> https://github.com/andrewwlong/deep_arrhythmias <br>\n",
        "> https://towardsdatascience.com/detecting-heart-arrhythmias-with-deep-learning-in-keras-with-dense-cnn-and-lstm-add337d9e41f <br>\n",
        "> https://github.com/eddymina/ECG_Classification_Pytorch/blob/master/ECG_notebook.ipynb <br>\n",
        "***"
      ],
      "id": "downtown-bangkok"
    },
    {
      "cell_type": "markdown",
      "metadata": {
        "id": "quarterly-draft"
      },
      "source": [
        "## 1. Backgrounds\n",
        "### 1-1. Dataset\n",
        "**MIT-BIH Arrhythmia dataset**을 활용하여 실습을 진행합니다. <br>\n",
        "(source: https://physionet.org/content/mitdb/1.0.0/) <br>\n",
        "이 데이터셋은 Boston's Beth Israel Hospital 에서 1975년 ~ 1979년 사이 in-patient & out-patient를 모두 포함하는 4000명 환자의 case에서, **23개 case를 랜덤 샘플**하고 **중요한 arrhythmia를 포함하는 25개 case를 임의로 선택**하여 구축하였습니다.<br>\n",
        "360Hz를 가지는 2-channel ECG waveform과 annotation을 포함합니다."
      ],
      "id": "quarterly-draft"
    },
    {
      "cell_type": "markdown",
      "metadata": {
        "id": "pressed-oxford"
      },
      "source": [
        "### 1-2. Deep Learning Framework \n",
        "본 실습에서는 **`Pytorch`**를 활용합니다. (official site: https://pytorch.org/)<br>\n",
        "`Pytorch`는 Facebook에서 개발한 open source deep learning framework로써 Tensorflow, Keras, Caffe, MXNet 등과 함께 많이 쓰이는 프레임워크 입니다.<br>\n",
        "특히 `Pytorch`는 python으로 데이터 분석을 수행할 때 많이 쓰이는 **`numpy` 등과 호환성이 좋고** 딥러닝 모델 **개발의 자유도가 높아**서 인공지능 연구자들 사이에서 인기가 높습니다. <br>\n",
        "Tensorflow과 달리 compile 과정이 없이 직관적으로 중간 연산 결과를 확인할 수 있어 딥러닝 모델을 쉽게 이해하고 수정직후 결과를 확인할 수 있습니다."
      ],
      "id": "pressed-oxford"
    },
    {
      "cell_type": "markdown",
      "metadata": {
        "id": "scientific-sarah"
      },
      "source": [
        "### 1-3. Other packages\n",
        "이외에 사용되는 주요한 패키지는 다음과 같습니다:\n",
        "1. `wfdb` : MIT-BIH arrhythmia dataset을 배포하는 MIMIC 팀이 자체 데이터를 처리하기 위해 개발하고 배포하는 패키지 입니다. signal과 annotation data를 읽어오는데 사용합니다.\n",
        "2. `numpy` : 벡터, 행렬 연산에 특화된 패키지 입니다.\n",
        "3. `pandas` : 데이터 분석에 특화된 패키지 입니다. 데이터 전처리와 후처리에 활용합니다.\n",
        "4. `matplotlib` : Data visualization에 특화된 패키지 입니다. 각종 plotting에 활용합니다.\n",
        "5. `sklearn` : 기계학습에 특화된 패키지 입니다. 모델 성능 분석에 활용합니다.\n",
        "\n",
        "\n",
        "***"
      ],
      "id": "scientific-sarah"
    },
    {
      "cell_type": "markdown",
      "metadata": {
        "id": "polish-writer"
      },
      "source": [
        "## 2. Data Downloads and Basic Statistics"
      ],
      "id": "polish-writer"
    },
    {
      "cell_type": "code",
      "metadata": {
        "id": "leading-support"
      },
      "source": [
        "!pip install wfdb"
      ],
      "id": "leading-support",
      "execution_count": null,
      "outputs": []
    },
    {
      "cell_type": "code",
      "metadata": {
        "id": "directed-arabic"
      },
      "source": [
        "import pandas as pd\n",
        "import numpy as np\n",
        "import matplotlib\n",
        "%matplotlib inline\n",
        "import matplotlib.pylab as plt\n",
        "import os\n",
        "import sys\n",
        "import glob\n",
        "import tqdm\n",
        "import random\n",
        "from itertools import cycle\n",
        "import warnings\n",
        "warnings.filterwarnings(action='ignore')\n",
        "\n",
        "import wfdb\n",
        "import torch\n",
        "import torch.nn as nn\n",
        "from torch.utils.data import Dataset, DataLoader\n",
        "from torch.nn import functional as F\n",
        "\n",
        "from sklearn.metrics import roc_auc_score, roc_curve, classification_report, auc\n",
        "from sklearn.preprocessing import label_binarize"
      ],
      "id": "directed-arabic",
      "execution_count": null,
      "outputs": []
    },
    {
      "cell_type": "markdown",
      "metadata": {
        "id": "chief-frame"
      },
      "source": [
        "### 2.1 Data download\n",
        "실습에 사용될 데이터를 다운받습니다.<br>\n",
        "데이터 사이즈가 크지 않으므로 로컬로 mimic 홈페이지에서 바로 다운로드를 진행합니다<br>\n",
        "> **Warning!** <br>\n",
        "> 만약, 데이터 다운로드에 너무 오랜 시간이 걸리거나 오류가 있다면, 아래의 공유 링크를 클릭하여 '나의 드라이브에 바로가기 추가'를 하고, comment out한 코드를 실행시키세요. <br>\n",
        "> Link: https://drive.google.com/drive/folders/1GJJXU5VFAG1nJVeYX-Yy3a2kbaYwuDq3?usp=sharing"
      ],
      "id": "chief-frame"
    },
    {
      "cell_type": "code",
      "metadata": {
        "id": "owned-construction",
        "outputId": "d3c70857-2b53-409d-bae8-8d16f4c9ed10"
      },
      "source": [
        "!wget https://www.physionet.org/static/published-projects/mitdb/mit-bih-arrhythmia-database-1.0.0.zip\n",
        "!unzip mit-bih-arrhythmia-database-1.0.0.zip\n",
        "\n",
        "download_directory = os.getcwd()\n",
        "sys.path.append(download_directory)\n",
        "os.listdir(download_directory)"
      ],
      "id": "owned-construction",
      "execution_count": null,
      "outputs": [
        {
          "output_type": "execute_result",
          "data": {
            "text/plain": [
              "['mit-bih-arrhythmia-database-1.0.0.zip',\n",
              " '.ipynb_checkpoints',\n",
              " 'Kosaim2021_ecg_detection_hands_on_hlyang.ipynb',\n",
              " 'data',\n",
              " 'mit-bih-arrhythmia-database-1.0.0',\n",
              " 'Untitled.ipynb']"
            ]
          },
          "metadata": {
            "tags": []
          },
          "execution_count": 3
        }
      ]
    },
    {
      "cell_type": "code",
      "metadata": {
        "id": "auburn-problem"
      },
      "source": [
        "# from google.colab import drive\n",
        "# drive.mount('/content/gdrive/')\n",
        "# cloud_directory = '/content/gdrive/My Drive/mit_bih_arrhythmia/'\n",
        "# download_directory = cloud_directory\n",
        "# os.listdir(cloud_directory)"
      ],
      "id": "auburn-problem",
      "execution_count": null,
      "outputs": []
    },
    {
      "cell_type": "markdown",
      "metadata": {
        "id": "meaning-membrane"
      },
      "source": [
        "### 2-2. Data loading and basic statistics\n",
        "데이터는 48개 케이스로 구성되고 각 케이스는 `hea`, `atr`, `dat`, `xws` 파일로 구성되어 있습니다.<br>\n",
        "annotation 관련 정보는 `atr` 파일에 포함되어 있습니다.<br>\n",
        "`wfdb` 패키지의 `rdann` 함수를 사용하여 `atr` 파일 내의 annotation을 불러올 수 있습니다."
      ],
      "id": "meaning-membrane"
    },
    {
      "cell_type": "code",
      "metadata": {
        "id": "derived-marble",
        "outputId": "3d6bca07-b7ca-4c2c-f813-f61f7cb52fe4"
      },
      "source": [
        "# datapath\n",
        "datapath = './mit-bih-arrhythmia-database-1.0.0/'\n",
        "# mimic dataset 파일 구성: hea, atr, dat, xws\n",
        "print(os.listdir(datapath))"
      ],
      "id": "derived-marble",
      "execution_count": null,
      "outputs": [
        {
          "output_type": "stream",
          "text": [
            "['117.xws', '209.hea', '107.xws', 'x_mitdb', '214.dat', '217.dat', '115.dat', '210.hea', '106.atr', '217.atr', '108.hea', '112.xws', '115.xws', '223.dat', '107.hea', '213.xws', '223.hea', '112.dat', '113.hea', '104.hea', '102-0.atr', '205.atr', '106.xws', '103.hea', '124.dat', '108.dat', '202.atr', '231.dat', '217.hea', '234.xws', '103.xws', '117.at_', '104.atr', '118.atr', '121.dat', '122.xws', '234.dat', '221.xws', '205.hea', '222.atr', '105.dat', '108.atr', '111.xws', '203.atr', '202.hea', '107.atr', '113.dat', '233.xws', '231.atr', '212.xws', '124.atr', '105.atr', 'ANNOTATORS', '213.dat', 'mitdbdir', '101.dat', '208.hea', '220.dat', '200.hea', '234.atr', '203.hea', '209.xws', '205.xws', '228.hea', '118.dat', '208.atr', '220.atr', '115.atr', '212.hea', '105.xws', '201.atr', '123.xws', '119.at_', '213.hea', '201.xws', '118.hea', '116.atr', '112.atr', '122.dat', '215.dat', '210.dat', '102.dat', '101.atr', '232.dat', '212.dat', '109.xws', '102.hea', '119.xws', '200.atr', '203.at_', '116.dat', '101.hea', '104.xws', '100.xws', '233.dat', '231.xws', '203.at-', '121.atr', '215.hea', '219.atr', '100.dat', '232.hea', '208.dat', '107.dat', '108.xws', '119.dat', '213.atr', '209.dat', '230.atr', '200.xws', '233.hea', '215.atr', '122.hea', '214.atr', '230.hea', '221.atr', '202.dat', '220.hea', '208.xws', '210.xws', '200.dat', '109.atr', '219.dat', '103.atr', '114.atr', '105.hea', '114.hea', '102.atr', '114.dat', '109.hea', '112.hea', '215.at_', '121.xws', '221.hea', '121.hea', '108.at_', '202.xws', '115.hea', '123.atr', '222.at_', '212.atr', '221.dat', '111.atr', '118.xws', '233.atr', '209.at_', '203.xws', '117.hea', '119.hea', '234.hea', '106.dat', '228.atr', '203.dat', '111.dat', '223.xws', '215.xws', '232.atr', '123.hea', '116.hea', 'SHA256SUMS.txt', '214.xws', 'RECORDS', '201.hea', '214.at_', '214.hea', '102.xws', '207.hea', '223.atr', '114.xws', '119.atr', '122.atr', '104.dat', '113.xws', '111.hea', '124.xws', '228.xws', '100.hea', '231.hea', '207.atr', '116.xws', '222.hea', '205.dat', '219.xws', '228.dat', '222.dat', '209.atr', '101.xws', '207.dat', '217.xws', '113.atr', '103.dat', '201.dat', '210.atr', '207.xws', '219.hea', '220.xws', '100.atr', '106.hea', '124.hea', '230.dat', '232.xws', '109.dat', '230.xws', '117.dat', '123.dat', '222.xws', '117.atr']\n"
          ],
          "name": "stdout"
        }
      ]
    },
    {
      "cell_type": "markdown",
      "metadata": {
        "id": "measured-sampling"
      },
      "source": [
        "데이터에서 환자번호를 뽑아옵니다."
      ],
      "id": "measured-sampling"
    },
    {
      "cell_type": "code",
      "metadata": {
        "id": "juvenile-cargo"
      },
      "source": [
        "header_files = [os.path.basename(x) for x in glob.glob(os.path.join(datapath, '*.hea'))]\n",
        "pids = sorted([x.split('.')[0] for x in header_files])"
      ],
      "id": "juvenile-cargo",
      "execution_count": null,
      "outputs": []
    },
    {
      "cell_type": "code",
      "metadata": {
        "id": "multiple-diagram"
      },
      "source": [
        "# annotation 파일 불러와서 label의 분포 확인\n",
        "df = pd.DataFrame()\n",
        "\n",
        "for pid in pids:\n",
        "    file = os.path.join(datapath, pid)\n",
        "    annotation = wfdb.rdann(os.path.join(file), 'atr')\n",
        "    symbols = annotation.symbol\n",
        "    \n",
        "    values, cnts = np.unique(symbols, return_counts=True)\n",
        "    df_sub = pd.DataFrame({'symbol': values, 'value': cnts, 'pid':[pid] * len(cnts)})\n",
        "    df = pd.concat([df, df_sub], axis=0)"
      ],
      "id": "multiple-diagram",
      "execution_count": null,
      "outputs": []
    },
    {
      "cell_type": "markdown",
      "metadata": {
        "id": "surprised-tissue"
      },
      "source": [
        "대부분의 annotation은 `N` symbol, 즉 정상 beat annotation을 가지고 있습니다."
      ],
      "id": "surprised-tissue"
    },
    {
      "cell_type": "code",
      "metadata": {
        "scrolled": false,
        "id": "right-arbor",
        "outputId": "2050c4a8-6885-41c2-906c-32760efb3eda"
      },
      "source": [
        "# Annotation 파일의 분포\n",
        "df.groupby('symbol').value.sum().sort_values(ascending = False)"
      ],
      "id": "right-arbor",
      "execution_count": null,
      "outputs": [
        {
          "output_type": "execute_result",
          "data": {
            "text/plain": [
              "symbol\n",
              "N    75052\n",
              "L     8075\n",
              "R     7259\n",
              "V     7130\n",
              "/     7028\n",
              "A     2546\n",
              "+     1291\n",
              "f      982\n",
              "F      803\n",
              "~      616\n",
              "!      472\n",
              "\"      437\n",
              "j      229\n",
              "x      193\n",
              "a      150\n",
              "|      132\n",
              "E      106\n",
              "J       83\n",
              "Q       33\n",
              "e       16\n",
              "[        6\n",
              "]        6\n",
              "S        2\n",
              "Name: value, dtype: int64"
            ]
          },
          "metadata": {
            "tags": []
          },
          "execution_count": 8
        }
      ]
    },
    {
      "cell_type": "markdown",
      "metadata": {
        "id": "surrounded-folks"
      },
      "source": [
        "MIT-BIH arrhythmia dataset에 포함되는 모든 annotation은 다음과 같습니다.<br>\n",
        "보다 자세한 내용은 아래 공식 홈페이지에서 확인할 수 있습니다.<br>\n",
        "\n",
        "> reference: <br> \n",
        "> https://www.physionet.org/physiobank/database/html/mitdbdir/tables.htm\n",
        "\n",
        "Beat annotations:<br>\n",
        "\n",
        "|Code\t|\tDescription    |\n",
        "| :-: | :- |\n",
        "| N\t|\tNormal beat <br>(displayed as \"·\" by the PhysioBank ATM, LightWAVE, pschart, and psfd)|\n",
        "|L\t|\tLeft bundle branch block beat |\n",
        "|R\t|\tRight bundle branch block beat |\n",
        "|B\t|\tBundle branch block beat (unspecified) |\n",
        "|A\t|\tAtrial premature beat |\n",
        "|a\t|\tAberrated atrial premature beat |\n",
        "|J\t|\tNodal (junctional) premature beat |\n",
        "|S\t|\tSupraventricular premature or ectopic beat (atrial or nodal) |\n",
        "|V\t|\tPremature ventricular contraction |\n",
        "|r\t|\tR-on-T premature ventricular contraction |\n",
        "|F\t|\tFusion of ventricular and normal beat |\n",
        "|e\t|\tAtrial escape beat |\n",
        "|j\t|\tNodal (junctional) escape beat |\n",
        "|n\t|\tSupraventricular escape beat (atrial or nodal) |\n",
        "|E\t|\tVentricular escape beat |\n",
        "|/\t|\tPaced beat |\n",
        "|f\t|\tFusion of paced and normal beat |\n",
        "|Q\t|\tUnclassifiable beat |\n",
        "|?\t|\tBeat not classified during learning |\n",
        "\n",
        "Non-beat annotations:<br>\n",
        "\n",
        "|Code\t|\tDescription|\n",
        "| :-: | :- |\n",
        "|\\[\t|\tStart of ventricular flutter/fibrillation |\n",
        "|!\t|\tVentricular flutter wave |\n",
        "|\\]\t|\tEnd of ventricular flutter/fibrillation |\n",
        "|x\t|\tNon-conducted P-wave (blocked APC) |\n",
        "|(\t|\tWaveform onset |\n",
        "|)\t|\tWaveform end |\n",
        "|p\t|\tPeak of P-wave |\n",
        "|t\t|\tPeak of T-wave |\n",
        "|u\t|\tPeak of U-wave |\n",
        "|\\`\t|\tPQ junction |\n",
        "|'\t|\tJ-point |\n",
        "|^\t|\t(Non-captured) pacemaker artifact |\n",
        "||\t|\tIsolated QRS-like artifact |\n",
        "|~\t|\tChange in signal quality |\n",
        "|+\t|\tRhythm change |\n",
        "|s\t|\tST segment change |\n",
        "|T\t|\tT-wave change |\n",
        "|*\t|\tSystole |\n",
        "|D\t|\tDiastole |\n",
        "|=\t|\tMeasurement annotation |\n",
        "|\"\t|\tComment annotation |\n",
        "|@\t|\tLink to external data |\n",
        "\n"
      ],
      "id": "surrounded-folks"
    },
    {
      "cell_type": "markdown",
      "metadata": {
        "id": "about-cemetery"
      },
      "source": [
        "본 강좌에서는 non-beat annotation은 모두 무시하고, 정상과 비정상 beat만 구분하여 arrhythmia를 detect 할 수 있는 딥러닝 모델을 만들어 보겠습니다."
      ],
      "id": "about-cemetery"
    },
    {
      "cell_type": "code",
      "metadata": {
        "id": "comprehensive-routine"
      },
      "source": [
        "# list of nonbeat and abnormal\n",
        "nonbeat = ['[','!',']','x','(',')','p','t','u','`',\n",
        "           '\\'','^','|','~','+','s','T','*','D','=','\"','@','Q','?']\n",
        "abnormal = ['L','R','V','/','A','f','F','j','a','E','J','e','S']"
      ],
      "id": "comprehensive-routine",
      "execution_count": null,
      "outputs": []
    },
    {
      "cell_type": "code",
      "metadata": {
        "id": "banner-penny"
      },
      "source": [
        "# normal, abnormal, nonbeat의 비율 구성 확인\n",
        "df['type'] = -1 # nonbeat\n",
        "df.loc[df.symbol == 'N', 'type'] = 0 # normal\n",
        "df.loc[df.symbol.isin(abnormal), 'type'] = 1 # abnormal"
      ],
      "id": "banner-penny",
      "execution_count": null,
      "outputs": []
    },
    {
      "cell_type": "code",
      "metadata": {
        "id": "cultural-reset",
        "outputId": "4a86f518-ad5f-4edf-8c14-8135dc5b2906"
      },
      "source": [
        "df.groupby('type').value.sum()"
      ],
      "id": "cultural-reset",
      "execution_count": null,
      "outputs": [
        {
          "output_type": "execute_result",
          "data": {
            "text/plain": [
              "type\n",
              "-1     3186\n",
              " 0    75052\n",
              " 1    34409\n",
              "Name: value, dtype: int64"
            ]
          },
          "metadata": {
            "tags": []
          },
          "execution_count": 11
        }
      ]
    },
    {
      "cell_type": "markdown",
      "metadata": {
        "id": "mechanical-professor"
      },
      "source": [
        "#### Define ECG data loading function\n",
        "`wfdb` 패키지를 이용하여 ECG waveform과 annotation을 불러올 수 있는 함수를 정의합니다.<br>\n",
        "`rdrecord` 함수를 이용하여 raw signal 데이터를 불러옵니다 <br>\n",
        "`rdann` 함수를 이용하여 annotation 데이터의 symbol 과 symbol의 index를 불러옵니다."
      ],
      "id": "mechanical-professor"
    },
    {
      "cell_type": "code",
      "metadata": {
        "id": "mighty-wrong"
      },
      "source": [
        "# load single patient's ecg signal and annotation\n",
        "def load_ecg(file):\n",
        "    \"\"\"\n",
        "    wfdb.rdrecord 를 이용해서 ecg 파일을 읽어옵니다.\n",
        "    \"\"\"\n",
        "    \n",
        "    # load the ecg\n",
        "    record = wfdb.rdrecord(file)\n",
        "    # load the annotation\n",
        "    annotation = wfdb.rdann(file, 'atr')\n",
        "    \n",
        "    # extract the signal\n",
        "    p_signal = record.p_signal\n",
        "    \n",
        "    # verify frequency is 360\n",
        "    assert record.fs == 360, 'sample freq is not 360'\n",
        "    \n",
        "    # extract symbols and annotation index\n",
        "    atr_sym = annotation.symbol\n",
        "    atr_index = annotation.sample\n",
        "    \n",
        "    return p_signal, atr_sym, atr_index"
      ],
      "id": "mighty-wrong",
      "execution_count": null,
      "outputs": []
    },
    {
      "cell_type": "markdown",
      "metadata": {
        "id": "according-arbor"
      },
      "source": [
        "예시로 신호 데이터의 일부를 plotting 해보면 다음과 같습니다.<br>\n",
        "여기서, 각 변수는 다음을 의미합니다. <br>\n",
        "`p_signal` = raw ecg signal <br>\n",
        "`atr_sym` = annotation symbol <br>\n",
        "`atr_sample` = annotation index <br>"
      ],
      "id": "according-arbor"
    },
    {
      "cell_type": "code",
      "metadata": {
        "id": "conscious-extra",
        "outputId": "3208b69d-9a9f-4855-88f0-718cbbeb9d0d"
      },
      "source": [
        "file = os.path.join(datapath, pids[0])\n",
        "p_signal, atr_sym, atr_sample = load_ecg(file)\n",
        "plt.plot(p_signal[1000:2000, 0])"
      ],
      "id": "conscious-extra",
      "execution_count": null,
      "outputs": [
        {
          "output_type": "execute_result",
          "data": {
            "text/plain": [
              "[<matplotlib.lines.Line2D at 0x7f1d5221c4f0>]"
            ]
          },
          "metadata": {
            "tags": []
          },
          "execution_count": 13
        },
        {
          "output_type": "display_data",
          "data": {
            "image/png": "[encoded data removed]",
            "text/plain": [
              "<Figure size 432x288 with 1 Axes>"
            ]
          },
          "metadata": {
            "tags": [],
            "needs_background": "light"
          }
        }
      ]
    },
    {
      "cell_type": "markdown",
      "metadata": {
        "id": "usual-return"
      },
      "source": [
        "이 환자 케이스에서 가지고 있는 annotation을 살펴보면 다음과 같습니다."
      ],
      "id": "usual-return"
    },
    {
      "cell_type": "code",
      "metadata": {
        "id": "professional-tyler",
        "outputId": "beb4fe11-cfda-45de-afa7-19eefe85847a"
      },
      "source": [
        "values, counts = np.unique(atr_sym, return_counts = True)\n",
        "for v, c in zip(values, counts):\n",
        "    print(v, c)"
      ],
      "id": "professional-tyler",
      "execution_count": null,
      "outputs": [
        {
          "output_type": "stream",
          "text": [
            "+ 1\n",
            "A 33\n",
            "N 2239\n",
            "V 1\n"
          ],
          "name": "stdout"
        }
      ]
    },
    {
      "cell_type": "markdown",
      "metadata": {
        "id": "assisted-tracy"
      },
      "source": [
        "이 중 abnormal에 해당되는 annotation의 위치를 살펴보면 다음과 같습니다."
      ],
      "id": "assisted-tracy"
    },
    {
      "cell_type": "code",
      "metadata": {
        "id": "impaired-october",
        "outputId": "63445d62-67a5-4f8f-e4b2-6ee9b6ce2800"
      },
      "source": [
        "# get abnormal beat index\n",
        "ab_index = [b for a,b in zip(atr_sym,atr_sample) if a in abnormal][:10]\n",
        "ab_index"
      ],
      "id": "impaired-october",
      "execution_count": null,
      "outputs": [
        {
          "output_type": "execute_result",
          "data": {
            "text/plain": [
              "[2044, 66792, 74986, 99579, 128085, 170719, 279576, 305709, 307745, 312825]"
            ]
          },
          "metadata": {
            "tags": []
          },
          "execution_count": 15
        }
      ]
    },
    {
      "cell_type": "markdown",
      "metadata": {
        "id": "imported-trust"
      },
      "source": [
        "위의 abnormal에 해당되는 annotation의 index를 기준으로, 전후 3초의 ecg signal을 plotting 해보면 다음과 같습니다. "
      ],
      "id": "imported-trust"
    },
    {
      "cell_type": "code",
      "metadata": {
        "id": "intended-richardson",
        "outputId": "38082ef7-d0f0-4341-9b68-9571fcbbea52"
      },
      "source": [
        "x = np.arange(len(p_signal))\n",
        "left = ab_index[1]-(360*3) # 전 3초\n",
        "right = ab_index[1]+(360*3) # 후 3초\n",
        "\n",
        "plt.figure(figsize=(15, 8))\n",
        "plt.plot(x[left:right],p_signal[left:right,0],'-',label='ecg',)\n",
        "plt.plot(x[atr_sample],p_signal[atr_sample,0],'go',label ='normal')\n",
        "plt.plot(x[ab_index],p_signal[ab_index,0],'ro',label='abnormal')\n",
        "\n",
        "plt.xlim(left,right)\n",
        "plt.ylim(p_signal[left:right].min()-0.05,p_signal[left:right,0].max()+0.05)\n",
        "plt.xlabel('time index')\n",
        "plt.ylabel('ECG signal')\n",
        "plt.legend(bbox_to_anchor = (1.04,1), loc = 'upper left')\n",
        "plt.show()"
      ],
      "id": "intended-richardson",
      "execution_count": null,
      "outputs": [
        {
          "output_type": "display_data",
          "data": {
            "image/png": "[encoded data removed]",
            "text/plain": [
              "<Figure size 1080x576 with 1 Axes>"
            ]
          },
          "metadata": {
            "tags": [],
            "needs_background": "light"
          }
        }
      ]
    },
    {
      "cell_type": "markdown",
      "metadata": {
        "id": "funded-familiar"
      },
      "source": [
        "***"
      ],
      "id": "funded-familiar"
    },
    {
      "cell_type": "markdown",
      "metadata": {
        "id": "dense-monaco"
      },
      "source": [
        "## 3. Preparing dataset for deep learning\n",
        "\n",
        "### 3-1. Define functions to build dataset for deep learning\n",
        "이제 본격적으로 딥러닝에 사용할 데이터셋을 구축 해보겠습니다.<br>\n",
        "데이터셋 구축 방법은 딥러닝 모델의 구조와 추후 모델 활용 방식에 따라 여러가지가 있을 수 있습니다.<br>\n",
        "본 강의에서는 `n`초의 raw signal waveform내에 arrhythmia를 포함하는지 아닌지를 detect 할 수 있는 딥러닝 모델을 만들어 보겠습니다.<br>\n",
        "annotation 된 index를 기준으로, 전 후 `n/2`초의 raw signal을 하나의 segment로 자르고 그에 상응하는 annotation symbol을 label로 지정하여 데이터셋을 구축하겠습니다.<br>\n",
        "<br>\n",
        "우선 non-beat annotation을 제외하고 normal symbol과 abnormal symbol의 index만 추출합니다.<br>\n",
        "추출된 annotation index를 기준으로 순회하며 abnormal symbol인 경우는 `Y` 값에 `1`을 할당하고, normal beat는 `0`을 할당합니다.<br>\n",
        "또한 대응되는 annotation symbol을 별도로 추출하여 `symbol`값에 할당합니다."
      ],
      "id": "dense-monaco"
    },
    {
      "cell_type": "code",
      "metadata": {
        "id": "incorporate-oasis"
      },
      "source": [
        "def build_dataset(pids, window_size, freq, abnormal):\n",
        "    \"\"\"\n",
        "    딥러닝 모델 학습을 위한 데이터를 구축합니다.\n",
        "    \"\"\"\n",
        "    ncols = window_size * freq\n",
        "    X_merged = np.zeros((1, ncols))\n",
        "    Y_merged = np.zeros((1,1))\n",
        "    symbol_merged = []\n",
        "    \n",
        "    rows_per_pid = []\n",
        "    \n",
        "    for pid in tqdm.tqdm(pids):\n",
        "        \n",
        "        filename = datapath + pid\n",
        "        p_signal, atr_sym, atr_sample = load_ecg(filename)\n",
        "        \n",
        "        p_signal = p_signal[:,0]\n",
        "        \n",
        "        # beat index (exclude non-beat)\n",
        "        beat_annotation_index = [x in (abnormal + ['N']) for x in atr_sym]\n",
        "        \n",
        "        X, Y, symbols = build_XY(signal=p_signal, \n",
        "                                 atr_sym = atr_sym, \n",
        "                                 atr_sample = atr_sample,\n",
        "                                 beat_index = beat_annotation_index, \n",
        "                                 nsec = window_size/2, \n",
        "                                 fs = freq,\n",
        "                                 ncols = ncols,\n",
        "                                 abnormal = abnormal)\n",
        "        \n",
        "        X_merged = np.append(X_merged, X, axis=0)\n",
        "        Y_merged = np.append(Y_merged, Y, axis=0)\n",
        "        symbol_merged = symbol_merged + symbols\n",
        "        rows_per_pid.append(Y.shape[0])\n",
        "        \n",
        "    # drop first zero rows\n",
        "    X_merged = X_merged[1:,:]\n",
        "    Y_merged = Y_merged[1:,:]\n",
        "    \n",
        "    # check sizes make sense\n",
        "    assert np.sum(rows_per_pid) == X_merged.shape[0], 'number of X, max_rows rows messed up'\n",
        "    assert Y_merged.shape[0] == X_merged.shape[0], 'number of X, Y rows messed up'\n",
        "    assert Y_merged.shape[0] == len(symbol_merged), 'number of Y, sym rows messed up'\n",
        "    \n",
        "    return X_merged, Y_merged, symbol_merged\n",
        "\n",
        "\n",
        "def build_XY(signal, atr_sym, atr_sample, beat_index, nsec, fs, ncols, abnormal):\n",
        "    \"\"\"\n",
        "    하나의 환자 id에서 signal과 annotation을 추출합니다.\n",
        "    \"\"\"\n",
        "    \n",
        "    num_rows = len(beat_index)\n",
        "\n",
        "    X = np.zeros((num_rows, ncols))\n",
        "    Y = np.zeros((num_rows,1))\n",
        "    symbols = []\n",
        "    \n",
        "    # keep track of rows\n",
        "    max_row = 0\n",
        "    \n",
        "    beat_atr_sym = np.array(atr_sym)[beat_index]\n",
        "    beat_atr_sample = np.array(atr_sample)[beat_index]\n",
        "\n",
        "    for sym, samp in zip(beat_atr_sym, beat_atr_sample):\n",
        "\n",
        "        left = int(max([0,(samp - nsec*fs) ]))\n",
        "        right = int(min([len(signal),(samp + nsec*fs) ]))\n",
        "        \n",
        "        x = signal[left: right]\n",
        "        if len(x) == ncols:\n",
        "            X[max_row,:] = x\n",
        "            Y[max_row,:] = int(sym in abnormal)\n",
        "            symbols.append(sym)\n",
        "            max_row += 1\n",
        "    X = X[:max_row,:]\n",
        "    Y = Y[:max_row,:]\n",
        "    return X, Y, symbols"
      ],
      "id": "incorporate-oasis",
      "execution_count": null,
      "outputs": []
    },
    {
      "cell_type": "markdown",
      "metadata": {
        "id": "planned-printer"
      },
      "source": [
        "### 3-2. Build train and validation dataset\n",
        "train과 validation에 사용할 데이터셋을 각각 구축합니다.<br>\n",
        "일반적인 딥러닝 학습시에는 다음과 같이 데이터를 구축합니다.<br>\n",
        "1. `train dataset`\n",
        "2. `validation dataset`\n",
        "3. `test dataset`\n",
        "\n",
        "`train dataset`은 딥러닝 모델 학습에 사용되고, <br>\n",
        "`validation dataset`은 딥러닝 학습 시 overfitting 등을 검증하는데 활용되고,<br>\n",
        "`test dataset`은 딥러닝 모델 평가에 활용됩니다.<br>\n",
        "<br>\n",
        "본 강의에서는 편의상 `train dataset` 과 `validation dataset` 만 구축하여 모델을 학습하고 그 과정을 확인해보겠습니다. <br>\n",
        "<br>\n",
        "<font color='darkred'>여기서 주의할점은</font>, **case 기준으로 train과 validation을 구분해야 한다는 것**입니다.<br>\n",
        "case를 구분하지 않고 전체 sample에서 random하게 train/validation을 구분할 경우 딥러닝 모델의 성능은 우수한 것으로 나올 수 있지만 실제 성능은 (training data이외의 데이터에서 평가시) 성능이 떨어지는 경우가 발생할 수 있습니다.<br>\n"
      ],
      "id": "planned-printer"
    },
    {
      "cell_type": "code",
      "metadata": {
        "id": "beneficial-valley"
      },
      "source": [
        "# 6초의 segment로 데이터 구축\n",
        "window_size = 6\n",
        "frequency = 360\n",
        "batch_size = 1000"
      ],
      "id": "beneficial-valley",
      "execution_count": null,
      "outputs": []
    },
    {
      "cell_type": "code",
      "metadata": {
        "id": "configured-waters"
      },
      "source": [
        "# dataset split\n",
        "random.seed(77)\n",
        "pids_valid = random.sample(pids, int(len(pids) / 4))\n",
        "pids_train = [pid for pid in pids if pid not in pids_valid]"
      ],
      "id": "configured-waters",
      "execution_count": null,
      "outputs": []
    },
    {
      "cell_type": "code",
      "metadata": {
        "id": "dental-malawi",
        "outputId": "63c7b1b6-c2f3-4d3c-a73d-b5f74224a23e"
      },
      "source": [
        "# build dataset\n",
        "X_train, Y_train, symbol_train = build_dataset(pids_train, \n",
        "                                               window_size, \n",
        "                                               frequency, \n",
        "                                               abnormal)\n",
        "X_valid, Y_valid, symbol_valid = build_dataset(pids_valid,\n",
        "                                              window_size,\n",
        "                                              frequency,\n",
        "                                              abnormal)\n",
        "\n",
        "print(\"Shape of train dataset: \\n X: {} \\n Y: {} \\n symbol: {} \\n\".format(\n",
        "X_train.shape, Y_train.shape, len(symbol_train)))\n",
        "print(\"Shape of valid dataset: \\n X: {} \\n Y: {} \\n symbol: {} \\n\".format(\n",
        "X_valid.shape, Y_valid.shape, len(symbol_valid)))"
      ],
      "id": "dental-malawi",
      "execution_count": null,
      "outputs": [
        {
          "output_type": "stream",
          "text": [
            "100%|██████████| 36/36 [00:10<00:00,  3.57it/s]\n",
            "100%|██████████| 12/12 [00:01<00:00,  6.17it/s]"
          ],
          "name": "stderr"
        },
        {
          "output_type": "stream",
          "text": [
            "Shape of train dataset: \n",
            " X: (82168, 2160) \n",
            " Y: (82168, 1) \n",
            " symbol: 82168 \n",
            "\n",
            "Shape of valid dataset: \n",
            " X: (26931, 2160) \n",
            " Y: (26931, 1) \n",
            " symbol: 26931 \n",
            "\n"
          ],
          "name": "stdout"
        },
        {
          "output_type": "stream",
          "text": [
            "\n"
          ],
          "name": "stderr"
        }
      ]
    },
    {
      "cell_type": "code",
      "metadata": {
        "id": "convinced-combining",
        "outputId": "8de48700-0c79-4949-d96a-483b112e1725"
      },
      "source": [
        "# train / validation symbol 확인\n",
        "print(np.unique(symbol_train))\n",
        "print(np.unique(symbol_valid))"
      ],
      "id": "convinced-combining",
      "execution_count": null,
      "outputs": [
        {
          "output_type": "stream",
          "text": [
            "['/' 'A' 'E' 'F' 'J' 'L' 'N' 'R' 'S' 'V' 'a' 'e' 'f' 'j']\n",
            "['/' 'A' 'F' 'L' 'N' 'R' 'V' 'a' 'j']\n"
          ],
          "name": "stdout"
        }
      ]
    },
    {
      "cell_type": "code",
      "metadata": {
        "id": "critical-place",
        "outputId": "f611b3cf-8715-4d9c-ab07-78b7676b1368"
      },
      "source": [
        "# train과 validation의 abnormal 비율 확인\n",
        "print('{:.3f} %'.format((Y_train.sum() / len(Y_train))* 100))\n",
        "print('{:.3f} %'.format((Y_valid.sum() / len(Y_valid))* 100))"
      ],
      "id": "critical-place",
      "execution_count": null,
      "outputs": [
        {
          "output_type": "stream",
          "text": [
            "30.569 %\n",
            "34.109 %\n"
          ],
          "name": "stdout"
        }
      ]
    },
    {
      "cell_type": "markdown",
      "metadata": {
        "id": "thorough-nylon"
      },
      "source": [
        "#### Prepare DataLoader\n",
        "`Pytorch`는 데이터를 불러오는 과정을 쉽게 해주는 함수들을 제공합니다.<br>\n",
        "사전 정의된 `Dataset` 클래스를 상속하여 custom dataset을 만들고 `DataLoader`를 이용해 데이터를 불러와주는 `generator`를 만듭니다."
      ],
      "id": "thorough-nylon"
    },
    {
      "cell_type": "code",
      "metadata": {
        "id": "revised-suite"
      },
      "source": [
        "class MyEcgDataset(Dataset):\n",
        "    \n",
        "    def __init__(self, data, labels, symbols):\n",
        "        super().__init__()\n",
        "        self.data = data\n",
        "        self.labels = labels\n",
        "        self.symbol = symbols\n",
        "        \n",
        "    def __len__(self):\n",
        "        return len(self.data)\n",
        "    \n",
        "    def __getitem__(self, idx):\n",
        "        return self.data[idx], self.labels[idx], self.symbol[idx]"
      ],
      "id": "revised-suite",
      "execution_count": null,
      "outputs": []
    },
    {
      "cell_type": "code",
      "metadata": {
        "id": "upper-thermal"
      },
      "source": [
        "train_dataset = MyEcgDataset(X_train, Y_train, symbol_train)\n",
        "valid_dataset = MyEcgDataset(X_valid, Y_valid, symbol_valid)\n",
        "\n",
        "train_generator = DataLoader(dataset=train_dataset, batch_size=batch_size, shuffle=True)\n",
        "valid_generator = DataLoader(dataset=valid_dataset, batch_size=batch_size, shuffle=False)"
      ],
      "id": "upper-thermal",
      "execution_count": null,
      "outputs": []
    },
    {
      "cell_type": "markdown",
      "metadata": {
        "id": "thrown-aside"
      },
      "source": [
        "***"
      ],
      "id": "thrown-aside"
    },
    {
      "cell_type": "markdown",
      "metadata": {
        "id": "billion-thriller"
      },
      "source": [
        "## 4. Deep Learning model training - binary classification\n",
        "\n",
        "첫번째 예제로 binary classification (이진분류) 을 수행해 보겠습니다.<br>\n",
        "아주 단순한 Artificial Neural Network 모델을 사용할 것입니다.<br>\n",
        "딥러닝 모델의 예측 결과가 0인 경우 normal beat 에 해당되고 1인 경우 abnormal에 해당합니다.<br>\n",
        "\n",
        "\n",
        "\n",
        "### 4-1. Define training function\n",
        "이진 분류를 위해서 모델 output에 `sigmoid` 함수를 취합니다.<br>\n",
        "각 epoch 마다 validation 결과를 출력하고 전체 loss 변화를 plotting 합니다."
      ],
      "id": "billion-thriller"
    },
    {
      "cell_type": "code",
      "metadata": {
        "id": "tamil-tomato"
      },
      "source": [
        "def train_binary(model, lr, epoch, criterion, optimizer, scheduler, \n",
        "          _train_generator, _valid_generator, use_scheduler = False):\n",
        "\n",
        "    # for loss plotting\n",
        "    train_loss_log = []\n",
        "    valid_loss_log = []\n",
        "\n",
        "    for epo in range(epoch):\n",
        "\n",
        "        for step, (batch_X, batch_Y, batch_samp) in enumerate(_train_generator):\n",
        "            model.zero_grad()\n",
        "            optimizer.zero_grad()\n",
        "            batch_X = batch_X.to('cuda:0')\n",
        "            batch_Y = batch_Y.to('cuda:0')\n",
        "\n",
        "            model.train()\n",
        "            output = model(batch_X.float())\n",
        "            loss = criterion(output, batch_Y.reshape(-1, 1).float())\n",
        "            loss.backward()\n",
        "            optimizer.step()\n",
        "\n",
        "            training_loss = loss.data.cpu().numpy().astype(float)\n",
        "\n",
        "            if step % 50 == 0:\n",
        "                print('[Epochs: ' + str(epo+1) + '  step: ' + str(step) + \n",
        "                      ']' + '  Train loss: {:.4f}'.format(training_loss))\n",
        "        \n",
        "        if use_scheduler:\n",
        "            scheduler.step()\n",
        "                \n",
        "        # validation\n",
        "        model.eval()\n",
        "        valid_output = []\n",
        "        valid_target = []\n",
        "        valid_pred = []\n",
        "\n",
        "        for valid_x, valid_y, _ in _valid_generator:\n",
        "            valid_x = valid_x.to('cuda:0')\n",
        "            \n",
        "            val_out = model(valid_x.float())\n",
        "            val_pred = F.sigmoid(val_out)\n",
        "            \n",
        "            val_out = val_out.cpu().data.numpy().astype(float)\n",
        "            val_pred = val_pred.cpu().data.numpy().astype(float)\n",
        "\n",
        "            valid_output.extend(val_out)\n",
        "            valid_target.extend(valid_y)\n",
        "            valid_pred.extend(val_pred)\n",
        "\n",
        "        valid_output_var = torch.from_numpy(np.array(valid_output)).float()\n",
        "        valid_target_var = torch.from_numpy(np.array(valid_target)).float()\n",
        "        valid_pred_var = torch.from_numpy(np.array(valid_pred)).float()\n",
        "\n",
        "        valid_loss = criterion(valid_output_var, valid_target_var.reshape(-1, 1))\n",
        "        valid_output_np = valid_output_var.reshape(-1).detach().numpy().round()\n",
        "        valid_target_np = valid_target_var.reshape(-1).detach().numpy().round()\n",
        "        valid_pred_np = valid_pred_var.reshape(-1).detach().numpy().round()\n",
        "\n",
        "        validation_loss = valid_loss.data.cpu().numpy().astype(float)\n",
        "        accuracy = (valid_pred_np == valid_target_np).mean()\n",
        "\n",
        "        print('[Epoch {} ends --------------------------]'.format(epo+1))\n",
        "        print('Current lr: {}'.format(optimizer.param_groups[0]['lr']))\n",
        "        print('Validation loss : {:.4f}  /  Accuracy : {:.3f} \\n'.format(\n",
        "        valid_loss, accuracy * 100))\n",
        "\n",
        "        # for log plotting\n",
        "        train_loss_log.append(training_loss)\n",
        "        valid_loss_log.append(validation_loss)\n",
        "\n",
        "    training_log_df = pd.DataFrame({'train_loss': train_loss_log, \n",
        "                                   'valid_loss': valid_loss_log})\n",
        "    df_fig_loss = training_log_df.astype(float).plot(\n",
        "        ylim=(0, max(np.concatenate([training_log_df.train_loss.values, training_log_df.valid_loss.values])) * 1.2))\n",
        "    \n",
        "    return valid_pred_np, valid_target_np "
      ],
      "id": "tamil-tomato",
      "execution_count": null,
      "outputs": []
    },
    {
      "cell_type": "markdown",
      "metadata": {
        "id": "fixed-estimate"
      },
      "source": [
        "### 4-2. Define Fully Connected Network\n",
        "아주 간단한 딥러닝 모델을 정의합니다.<br>\n",
        "우선 다른 모듈을 사용하지 않고 단순한 linear layer 2개층을 가지는 네트워크를 생성해보겠습니다.<br>\n",
        "모델의 input은 2160 sized raw waveform (360\\*6=2160)이고 중간에 512개와 128개의 neuron을 갖는 layer를 하나 가지고 있는 단순한 네트워크 입니다.<br>\n",
        "또한 모델 초기화를 위한 함수를 추가합니다."
      ],
      "id": "fixed-estimate"
    },
    {
      "cell_type": "code",
      "metadata": {
        "id": "demographic-madness"
      },
      "source": [
        "def init_weights(m):\n",
        "    if type(m) == nn.Linear:\n",
        "        nn.init.xavier_normal(m.weight)\n",
        "        m.bias.data.fill_(0.)\n",
        "    \n",
        "    elif type(m) == nn.Conv1d:\n",
        "        nn.init.xavier_normal(m.weight)\n",
        "        m.bias.data.fill_(0.01)"
      ],
      "id": "demographic-madness",
      "execution_count": null,
      "outputs": []
    },
    {
      "cell_type": "code",
      "metadata": {
        "id": "regional-wholesale"
      },
      "source": [
        "class simple_FCN(nn.Module):\n",
        "    def __init__(self):\n",
        "        super(simple_FCN, self).__init__()\n",
        "        \n",
        "        self.fc0 = nn.Linear(2160, 512)\n",
        "        self.fc1 = nn.Linear(512, 128)\n",
        "        self.fc2 = nn.Linear(128, 1)\n",
        "        \n",
        "        self.dropout = nn.Dropout(0.25)\n",
        "        \n",
        "    def forward(self, x):\n",
        "        x = torch.relu(self.fc0(x))\n",
        "        x = self.dropout(x)\n",
        "        x = torch.relu(self.fc1(x))\n",
        "        x = self.dropout(x)\n",
        "        x = self.fc2(x)\n",
        "        \n",
        "        return x"
      ],
      "id": "regional-wholesale",
      "execution_count": null,
      "outputs": []
    },
    {
      "cell_type": "markdown",
      "metadata": {
        "id": "blind-intranet"
      },
      "source": [
        "### 4-3. Train model\n",
        "모델을 학습시킵니다.<br>\n",
        "앞서 정의한 네트워크를 선언하고 초기화합니다.<br>\n",
        "학습을 위한 loss function은 `Binary Cross Entropyloss`를 사용하고 optimizer는 `Adam`을 사용합니다."
      ],
      "id": "blind-intranet"
    },
    {
      "cell_type": "code",
      "metadata": {
        "scrolled": false,
        "id": "previous-server",
        "outputId": "5891e0b7-04ef-4ae3-9695-f328df050ed6"
      },
      "source": [
        "fcn_model = simple_FCN()\n",
        "fcn_model.apply(init_weights)\n",
        "\n",
        "lr = 0.0001 # current best = lr only with 0.0001 / epoch 10\n",
        "epoch = 10\n",
        "criterion = nn.BCEWithLogitsLoss() # output should be logit, not sigmod\n",
        "optimizer = torch.optim.Adam(fcn_model.parameters(), lr=lr)\n",
        "scheduler = torch.optim.lr_scheduler.StepLR(optimizer=optimizer,\n",
        "                                          step_size=5,\n",
        "                                          gamma=0.1)\n",
        "\n",
        "fcn_model = fcn_model.to('cuda:0')\n",
        "val_output, val_target = train_binary(model = fcn_model,\n",
        "                              lr = lr,\n",
        "                              epoch = epoch,\n",
        "                              criterion = criterion,\n",
        "                              optimizer = optimizer, \n",
        "                              scheduler = scheduler, \n",
        "                              _train_generator = train_generator,\n",
        "                              _valid_generator = valid_generator,\n",
        "                              use_scheduler = True)"
      ],
      "id": "previous-server",
      "execution_count": null,
      "outputs": [
        {
          "output_type": "stream",
          "text": [
            "[Epochs: 1  step: 0]  Train loss: 0.7186\n",
            "[Epochs: 1  step: 50]  Train loss: 0.4118\n",
            "[Epoch 1 ends --------------------------]\n",
            "Current lr: 0.0001\n",
            "Validation loss : 0.4978  /  Accuracy : 77.071 \n",
            "\n",
            "[Epochs: 2  step: 0]  Train loss: 0.3222\n",
            "[Epochs: 2  step: 50]  Train loss: 0.3148\n",
            "[Epoch 2 ends --------------------------]\n",
            "Current lr: 0.0001\n",
            "Validation loss : 0.4409  /  Accuracy : 78.872 \n",
            "\n",
            "[Epochs: 3  step: 0]  Train loss: 0.2240\n",
            "[Epochs: 3  step: 50]  Train loss: 0.2380\n",
            "[Epoch 3 ends --------------------------]\n",
            "Current lr: 0.0001\n",
            "Validation loss : 0.4412  /  Accuracy : 78.853 \n",
            "\n",
            "[Epochs: 4  step: 0]  Train loss: 0.2047\n",
            "[Epochs: 4  step: 50]  Train loss: 0.1699\n",
            "[Epoch 4 ends --------------------------]\n",
            "Current lr: 0.0001\n",
            "Validation loss : 0.4052  /  Accuracy : 80.331 \n",
            "\n",
            "[Epochs: 5  step: 0]  Train loss: 0.1462\n",
            "[Epochs: 5  step: 50]  Train loss: 0.1658\n",
            "[Epoch 5 ends --------------------------]\n",
            "Current lr: 1e-05\n",
            "Validation loss : 0.4028  /  Accuracy : 80.368 \n",
            "\n",
            "[Epochs: 6  step: 0]  Train loss: 0.1322\n",
            "[Epochs: 6  step: 50]  Train loss: 0.1332\n",
            "[Epoch 6 ends --------------------------]\n",
            "Current lr: 1e-05\n",
            "Validation loss : 0.4017  /  Accuracy : 81.248 \n",
            "\n",
            "[Epochs: 7  step: 0]  Train loss: 0.1071\n",
            "[Epochs: 7  step: 50]  Train loss: 0.1344\n",
            "[Epoch 7 ends --------------------------]\n",
            "Current lr: 1e-05\n",
            "Validation loss : 0.4021  /  Accuracy : 81.081 \n",
            "\n",
            "[Epochs: 8  step: 0]  Train loss: 0.1333\n",
            "[Epochs: 8  step: 50]  Train loss: 0.1530\n",
            "[Epoch 8 ends --------------------------]\n",
            "Current lr: 1e-05\n",
            "Validation loss : 0.4017  /  Accuracy : 81.493 \n",
            "\n",
            "[Epochs: 9  step: 0]  Train loss: 0.1179\n",
            "[Epochs: 9  step: 50]  Train loss: 0.1218\n",
            "[Epoch 9 ends --------------------------]\n",
            "Current lr: 1e-05\n",
            "Validation loss : 0.4043  /  Accuracy : 81.070 \n",
            "\n",
            "[Epochs: 10  step: 0]  Train loss: 0.1372\n",
            "[Epochs: 10  step: 50]  Train loss: 0.1155\n",
            "[Epoch 10 ends --------------------------]\n",
            "Current lr: 1.0000000000000002e-06\n",
            "Validation loss : 0.4084  /  Accuracy : 81.059 \n",
            "\n"
          ],
          "name": "stdout"
        },
        {
          "output_type": "display_data",
          "data": {
            "image/png": "[encoded data removed]",
            "text/plain": [
              "<Figure size 432x288 with 1 Axes>"
            ]
          },
          "metadata": {
            "tags": [],
            "needs_background": "light"
          }
        }
      ]
    },
    {
      "cell_type": "markdown",
      "metadata": {
        "id": "continental-seller"
      },
      "source": [
        "### 4-4. Result\n",
        "결과값을 다음과 같이 확인할 수 있습니다."
      ],
      "id": "continental-seller"
    },
    {
      "cell_type": "markdown",
      "metadata": {
        "id": "scientific-blade"
      },
      "source": [
        "precision = 모델이 True로 분류한 것 중 실제 True인 비율\n",
        "\n",
        "$$ precision = {True\\_positive \\over True\\_positive + False\\_positive} $$\n",
        "\n",
        "recall = 실제 Ture인 것 중에서 모델이 모델이 True라고 예측한 것의 비율\n",
        "\n",
        "$$ recall = {True\\_positive \\over True\\_positive + False\\_negative} $$\n",
        "\n",
        "F1 Score = Precision 과 Recall의 조화평균\n",
        "\n",
        "$$ F1\\_Score = 2 \\times { precision \\times recall \\over precision + recall} $$\n",
        "\n",
        "macro_avg = averaging the unweighted mean per label <br>\n",
        "weighted_avg = averaging the support-weighted mean per label"
      ],
      "id": "scientific-blade"
    },
    {
      "cell_type": "code",
      "metadata": {
        "id": "british-garden",
        "outputId": "51d3dc21-6ac2-4dbc-e3e4-1bfccebd258f"
      },
      "source": [
        "print(classification_report(val_target, val_output, target_names=['normal', 'abnormal']))"
      ],
      "id": "british-garden",
      "execution_count": null,
      "outputs": [
        {
          "output_type": "stream",
          "text": [
            "              precision    recall  f1-score   support\n",
            "\n",
            "      normal       0.79      0.98      0.87     17745\n",
            "    abnormal       0.92      0.49      0.64      9186\n",
            "\n",
            "    accuracy                           0.81     26931\n",
            "   macro avg       0.85      0.73      0.75     26931\n",
            "weighted avg       0.83      0.81      0.79     26931\n",
            "\n"
          ],
          "name": "stdout"
        }
      ]
    },
    {
      "cell_type": "markdown",
      "metadata": {
        "id": "atmospheric-image"
      },
      "source": [
        "## 5. Deep Learning model training - multiclass classification\n",
        "\n",
        "두번째 예제로 multiclass classification (다중클래스분류) 을 수행해 보겠습니다.<br>\n",
        "이진 분류보다는 조금 더 어려운 문제이므로 앞서 이진분류 모델의 FCN보다 조금 더 deep 한 Convolutaion Neural Network (CNN)을 사용합니다.<br>\n",
        "앞서 3-1. 데이터셋 구축 과정에서 추출해둔 symbol을 활용합니다.<br>\n",
        "\n",
        "\n",
        "### 5-1. Define dataloader\n",
        "다중클래스분류 모델을 학습시키기 위한 `dataloader`를 정의합니다.<br>\n",
        "기본적인 구조는 FCN을 이용한 binary classification 때와 매우 흡사하지만 CNN 모델에 맞게 input shape을 수정해주어야 합니다.<br>\n",
        "CNN을 사용하기 위한 데이터에서는 input 이 (*batch_size, channel, length*)의 구조를 가져야 합니다.<br>\n",
        "우리 데이터의 경우 *channel* 수는 1 입니다.<br>\n",
        "<br>\n",
        "또한 딥러닝은 행렬연산의 연속이기 때문에 symbol을 수치로 변환해주어야 합니다.<br>\n",
        "각 symbol을 숫자 하나로 매칭시켜 dictionary를 만들고 변환해줍니다."
      ],
      "id": "atmospheric-image"
    },
    {
      "cell_type": "code",
      "metadata": {
        "id": "impressed-steel",
        "outputId": "abe8de55-91a1-4282-f349-f40fde1e3e76"
      },
      "source": [
        "# make class and idx dictionary for multiclass classification\n",
        "target_classes = abnormal + ['N']\n",
        "symbol_idx_dict = dict(zip(target_classes, np.arange(len(target_classes))))\n",
        "idx_symbol_dict = {v: k for k, v in symbol_idx_dict.items()}\n",
        "print(symbol_idx_dict)\n",
        "print(idx_symbol_dict)"
      ],
      "id": "impressed-steel",
      "execution_count": null,
      "outputs": [
        {
          "output_type": "stream",
          "text": [
            "{'L': 0, 'R': 1, 'V': 2, '/': 3, 'A': 4, 'f': 5, 'F': 6, 'j': 7, 'a': 8, 'E': 9, 'J': 10, 'e': 11, 'S': 12, 'N': 13}\n",
            "{0: 'L', 1: 'R', 2: 'V', 3: '/', 4: 'A', 5: 'f', 6: 'F', 7: 'j', 8: 'a', 9: 'E', 10: 'J', 11: 'e', 12: 'S', 13: 'N'}\n"
          ],
          "name": "stdout"
        }
      ]
    },
    {
      "cell_type": "code",
      "metadata": {
        "id": "hungarian-suspect"
      },
      "source": [
        "class MyEcgDataset_CNN_multiclass(Dataset):\n",
        "    \n",
        "    def __init__(self, data, labels, sym2idx):\n",
        "        super().__init__()\n",
        "\n",
        "        self._data = data\n",
        "        \n",
        "        self._data = np.expand_dims(self._data, axis=2)\n",
        "        self.data = np.transpose(self._data, (0, 2, 1))\n",
        "        \n",
        "        self.labels = labels\n",
        "        self.sym2idx = sym2idx\n",
        "        self.encoded_label = np.array([self.sym2idx[lab] for lab in self.labels])\n",
        "        \n",
        "    def __len__(self):\n",
        "        return len(self.data)\n",
        "    \n",
        "    def __getitem__(self, idx):\n",
        "        return self.data[idx], self.encoded_label[idx]"
      ],
      "id": "hungarian-suspect",
      "execution_count": null,
      "outputs": []
    },
    {
      "cell_type": "code",
      "metadata": {
        "id": "bottom-district"
      },
      "source": [
        "batch_size = 2000\n",
        "\n",
        "train_dataset_cnn_multiclass = MyEcgDataset_CNN_multiclass(X_train, symbol_train, symbol_idx_dict)\n",
        "valid_dataset_cnn_multiclass = MyEcgDataset_CNN_multiclass(X_valid, symbol_valid, symbol_idx_dict)\n",
        "\n",
        "train_generator_cnn_multiclass = DataLoader(dataset=train_dataset_cnn_multiclass, batch_size=batch_size, shuffle=True)\n",
        "valid_generator_cnn_multiclass = DataLoader(dataset=valid_dataset_cnn_multiclass, batch_size=batch_size, shuffle=False)"
      ],
      "id": "bottom-district",
      "execution_count": null,
      "outputs": []
    },
    {
      "cell_type": "markdown",
      "metadata": {
        "id": "laden-wallpaper"
      },
      "source": [
        "### 5-2. Define training function\n",
        "\n",
        "다중클래스분류를 위한 학습 함수를 정의합니다.<br>\n",
        "기본적인 구조는 FCN을 이용한 binary classification과 매우 흡사하지만 다중분류를 위해 모델의 output에 `softmax` 함수를 사용하도록 변경하고 validation시 `accuracy` 이외에 `auroc`도 함께 출력할 수 있도록 다소 수정하였습니다.<br>\n",
        "마찬가지로 각 epoch 마다 validation 결과를 출력하고 전체 loss 변화를 plotting 합니다."
      ],
      "id": "laden-wallpaper"
    },
    {
      "cell_type": "code",
      "metadata": {
        "id": "coral-tiffany"
      },
      "source": [
        "def train_multiclass(model, lr, epoch, criterion, optimizer, scheduler, \n",
        "          _train_generator, _valid_generator, symbol_dict, use_scheduler = False):\n",
        "\n",
        "    # for loss plotting\n",
        "    train_loss_log = []\n",
        "    valid_loss_log = []\n",
        "\n",
        "    for epo in range(epoch):\n",
        "\n",
        "        for step, (batch_X, batch_Y) in enumerate(_train_generator):\n",
        "            model.zero_grad()\n",
        "            batch_X = batch_X.to('cuda:0')\n",
        "            batch_Y = batch_Y.to('cuda:0')\n",
        "\n",
        "            model.train()\n",
        "            output = model(batch_X.float())\n",
        "            loss = criterion(output, torch.squeeze(batch_Y).long())\n",
        "            loss.backward()\n",
        "            optimizer.step()\n",
        "\n",
        "            training_loss = loss.data.cpu().numpy().astype(float)\n",
        "\n",
        "            if step % 50 == 0:\n",
        "                print('[Epochs: ' + str(epo+1) + '  step: ' + str(step) + \n",
        "                      ']' + '  Train loss: {:.4f}'.format(training_loss))\n",
        "        \n",
        "        if use_scheduler:\n",
        "            scheduler.step()\n",
        "            \n",
        "        # validation\n",
        "        model.eval()\n",
        "        valid_output = []\n",
        "        valid_target = []\n",
        "        valid_pred =[]\n",
        "\n",
        "        for valid_x, valid_y in _valid_generator:\n",
        "            valid_x = valid_x.to('cuda:0')\n",
        "            \n",
        "            val_out = model(valid_x.float())\n",
        "            val_pred = F.log_softmax(val_out, dim=1)\n",
        "            \n",
        "            #val_pred = val_out.argmax(dim=1, keepdim=True)\n",
        "            \n",
        "            val_out = val_out.cpu().data.numpy().astype(float)\n",
        "            val_pred = val_pred.cpu().data.numpy().astype(float)\n",
        "\n",
        "            valid_output.extend(val_out)\n",
        "            valid_target.extend(valid_y)\n",
        "            valid_pred.extend(val_pred)\n",
        "\n",
        "        valid_output_var = torch.from_numpy(np.array(valid_output)).float()\n",
        "        valid_target_var = torch.from_numpy(np.array(valid_target)).float()\n",
        "        valid_pred_var = torch.from_numpy(np.array(valid_pred)).float() \n",
        "\n",
        "        valid_loss = criterion(valid_output_var, torch.squeeze(valid_target_var).long())\n",
        "        valid_output_np = valid_output_var.detach().numpy().round()\n",
        "        valid_target_np = valid_target_var.detach().numpy().round()\n",
        "        valid_pred_np = valid_pred_var.detach().numpy().round()\n",
        "\n",
        "        validation_loss = valid_loss.data.cpu().numpy().astype(float)\n",
        "        \n",
        "        valid_label = valid_pred_var.argmax(dim=1)\n",
        "        \n",
        "        # binarize the label\n",
        "        valid_target_np_binarized = label_binarize(valid_target_np, \n",
        "                                                   classes=list(symbol_dict.values()))\n",
        "        fpr = {}\n",
        "        tpr = {}\n",
        "        thresh = {}\n",
        "        roc_auc = {}\n",
        "        for i in range(len(symbol_dict.values())):\n",
        "            fpr[i], tpr[i], thresh[i] = roc_curve(valid_target_np_binarized[:, i], \n",
        "                                                  valid_pred_np[:,i])\n",
        "            roc_auc[i] = auc(fpr[i], tpr[i])\n",
        "            \n",
        "        fpr['micro'], tpr['micro'], thresh['micro'] = roc_curve(valid_target_np_binarized.ravel(), \n",
        "                                                                valid_pred_np.ravel())\n",
        "        roc_auc['micro'] = auc(fpr['micro'], tpr['micro'])        \n",
        "        roc_score = roc_auc['micro']\n",
        "        correct = (valid_label.long() == valid_target_var.long()).data.numpy().sum()\n",
        "        accuracy = correct / len(valid_label)\n",
        "\n",
        "        print('[Epoch {} ends --------------------------]'.format(epo + 1))\n",
        "        print('Validation loss : {:.4f}  /  Accuracy : {:.3f}  / AUROC : {:.3f} \\n'.format(\n",
        "        valid_loss, accuracy * 100, roc_score))\n",
        "\n",
        "        # for log plotting\n",
        "        train_loss_log.append(training_loss)\n",
        "        valid_loss_log.append(validation_loss)\n",
        "\n",
        "    training_log_df = pd.DataFrame({'train_loss': train_loss_log, \n",
        "                                   'valid_loss': valid_loss_log})\n",
        "    df_fig_loss = training_log_df.astype(float).plot(\n",
        "        ylim=(0, max(training_log_df.train_loss.values) * 1.2))\n",
        "    \n",
        "    # make roc_curve data\n",
        "    roc_curve_data = (fpr, tpr, thresh, roc_auc)\n",
        "    \n",
        "    return valid_pred_np, valid_target_np, roc_curve_data"
      ],
      "id": "coral-tiffany",
      "execution_count": null,
      "outputs": []
    },
    {
      "cell_type": "markdown",
      "metadata": {
        "id": "modified-showcase"
      },
      "source": [
        "### 5-3. Define Convolutional Neural Network\n",
        "간단한 CNN 모델을 정의합니다.<br>\n",
        "7개의 블록을 가지고 각 블록은 2개의 convolution layer와 residual path를 포함합니다.<br>\n",
        "residual path는 추후 모델 학습을 수월하게 하는 역할을 합니다.<br>\n",
        "channel size는 32로 하고 kernel size는 5로 합니다.<br>\n",
        "예측을 위한 classifier는 32개의 neuron을 갖는 2개의 layer로 구성합니다."
      ],
      "id": "modified-showcase"
    },
    {
      "cell_type": "code",
      "metadata": {
        "id": "fossil-quarterly"
      },
      "source": [
        "class CNN_multiclass(nn.Module):\n",
        "    def __init__(self, input_size,num_classes):\n",
        "        super(CNN_multiclass, self).__init__()\n",
        "    \n",
        "        self.conv= nn.Conv1d(in_channels=input_size, out_channels=32, kernel_size=5,stride=1)\n",
        "        \n",
        "        self.conv_pad = nn.Conv1d(in_channels=32, out_channels=32, kernel_size=5,stride=1,padding=2)\n",
        "        self.drop_50 = nn.Dropout(p=0.5)\n",
        "\n",
        "        self.maxpool = nn.MaxPool1d(kernel_size=5,stride=2) \n",
        "\n",
        "        self.dense1 = nn.Linear(32 * 13, 32) \n",
        "        self.dense2 = nn.Linear(32, 32) \n",
        "        \n",
        "        self.dense_final = nn.Linear(32, num_classes)\n",
        "        self.softmax= nn.LogSoftmax(dim=1)\n",
        "        \n",
        "        \n",
        "    def forward(self, x):\n",
        "        residual= self.conv(x)\n",
        "      \n",
        "        #block1 \n",
        "        x = F.relu(self.conv_pad(residual))\n",
        "        x = self.conv_pad(x)\n",
        "        x+= residual \n",
        "        x = F.relu(x)\n",
        "        residual = self.maxpool(x)\n",
        "       \n",
        "        #block2\n",
        "        x=F.relu(self.conv_pad(residual))\n",
        "        x=self.conv_pad(x)\n",
        "        x+=residual\n",
        "        x= F.relu(x)\n",
        "        residual = self.maxpool(x) \n",
        "        \n",
        "        \n",
        "        #block3\n",
        "        x=F.relu(self.conv_pad(residual))\n",
        "        x=self.conv_pad(x)\n",
        "        x+=residual\n",
        "        x= F.relu(x)\n",
        "        residual = self.maxpool(x) \n",
        "        \n",
        "        \n",
        "        #block4\n",
        "        x=F.relu(self.conv_pad(residual))\n",
        "        x=self.conv_pad(x)\n",
        "        x+=residual\n",
        "        x= F.relu(x)\n",
        "        residual = self.maxpool(x) #131\n",
        "        \n",
        "        #block5\n",
        "        x=F.relu(self.conv_pad(residual))\n",
        "        x=self.conv_pad(x)\n",
        "        x+=residual\n",
        "        x= F.relu(x)\n",
        "        residual = self.maxpool(x) #64\n",
        "        \n",
        "        #block6\n",
        "        x=F.relu(self.conv_pad(residual))\n",
        "        x=self.conv_pad(x)\n",
        "        x+=residual\n",
        "        x= F.relu(x)\n",
        "        residual = self.maxpool(x) #30\n",
        "        \n",
        "        #block7\n",
        "        x=F.relu(self.conv_pad(residual))\n",
        "        x=self.conv_pad(x)\n",
        "        x+=residual\n",
        "        x= F.relu(x)\n",
        "        x= self.maxpool(x) #13\n",
        "\n",
        "        \n",
        "        #MLP\n",
        "        x = x.view(-1, 32 * 13) # Reshape (current_dim, 32*13)\n",
        "        x = F.relu(self.dense1(x))\n",
        "        x = self.drop_50(x)\n",
        "        x= self.dense2(x)\n",
        "        x = self.dense_final(x)\n",
        "        return x"
      ],
      "id": "fossil-quarterly",
      "execution_count": null,
      "outputs": []
    },
    {
      "cell_type": "markdown",
      "metadata": {
        "id": "adequate-public"
      },
      "source": [
        "### 5-4. Train model\n",
        "모델을 학습시킵니다.<br>\n",
        "앞서 정의한 CNN 네트워크를 선언하고 초기화합니다.<br>\n",
        "학습을 위한 loss function은 `Cross Entropyloss`를 사용하고 optimizer는 `Adam`을 사용합니다.<br>\n",
        "모델의 파라미터가 많아짐에 따라 학습시간이 좀 더 오래 걸릴 수 있습니다."
      ],
      "id": "adequate-public"
    },
    {
      "cell_type": "code",
      "metadata": {
        "scrolled": false,
        "id": "artistic-malaysia",
        "outputId": "bf4bd260-32ff-4138-a478-a909591a9ad5"
      },
      "source": [
        "cnn_model_multiclass = CNN_multiclass(input_size = 1, num_classes=len(symbol_idx_dict))\n",
        "cnn_model_multiclass.apply(init_weights)\n",
        "\n",
        "lr = 0.001\n",
        "epoch = 10\n",
        "criterion = nn.CrossEntropyLoss()\n",
        "optimizer = torch.optim.Adam(cnn_model_multiclass.parameters(), lr=lr)\n",
        "scheduler = torch.optim.lr_scheduler.StepLR(optimizer=optimizer,\n",
        "                                          step_size=7,\n",
        "                                          gamma=0.5)\n",
        "\n",
        "cnn_model_multiclass = cnn_model_multiclass.to('cuda:0')\n",
        "val_output, val_target, roc_curve_raw_data = train_multiclass(\n",
        "                              model = cnn_model_multiclass,\n",
        "                              lr = lr,\n",
        "                              epoch = epoch,\n",
        "                              criterion = criterion,\n",
        "                              optimizer = optimizer, \n",
        "                              scheduler = scheduler, \n",
        "                              _train_generator = train_generator_cnn_multiclass,\n",
        "                              _valid_generator = valid_generator_cnn_multiclass,\n",
        "                              symbol_dict=symbol_idx_dict,\n",
        "                              use_scheduler=True)"
      ],
      "id": "artistic-malaysia",
      "execution_count": null,
      "outputs": [
        {
          "output_type": "stream",
          "text": [
            "[Epochs: 1  step: 0]  Train loss: 11.3500\n",
            "[Epoch 1 ends --------------------------]\n",
            "Validation loss : 1.3808  /  Accuracy : 65.891  / AUROC : 0.898 \n",
            "\n",
            "[Epochs: 2  step: 0]  Train loss: 1.4229\n",
            "[Epoch 2 ends --------------------------]\n",
            "Validation loss : 1.1519  /  Accuracy : 66.065  / AUROC : 0.940 \n",
            "\n",
            "[Epochs: 3  step: 0]  Train loss: 1.1156\n",
            "[Epoch 3 ends --------------------------]\n",
            "Validation loss : 1.1199  /  Accuracy : 66.240  / AUROC : 0.954 \n",
            "\n",
            "[Epochs: 4  step: 0]  Train loss: 0.9950\n",
            "[Epoch 4 ends --------------------------]\n",
            "Validation loss : 0.8911  /  Accuracy : 69.582  / AUROC : 0.965 \n",
            "\n",
            "[Epochs: 5  step: 0]  Train loss: 0.8155\n",
            "[Epoch 5 ends --------------------------]\n",
            "Validation loss : 0.8656  /  Accuracy : 70.658  / AUROC : 0.969 \n",
            "\n",
            "[Epochs: 6  step: 0]  Train loss: 0.7403\n",
            "[Epoch 6 ends --------------------------]\n",
            "Validation loss : 0.7874  /  Accuracy : 76.804  / AUROC : 0.972 \n",
            "\n",
            "[Epochs: 7  step: 0]  Train loss: 0.7198\n",
            "[Epoch 7 ends --------------------------]\n",
            "Validation loss : 0.7728  /  Accuracy : 77.635  / AUROC : 0.976 \n",
            "\n",
            "[Epochs: 8  step: 0]  Train loss: 0.6183\n",
            "[Epoch 8 ends --------------------------]\n",
            "Validation loss : 0.7916  /  Accuracy : 77.468  / AUROC : 0.975 \n",
            "\n",
            "[Epochs: 9  step: 0]  Train loss: 0.5778\n",
            "[Epoch 9 ends --------------------------]\n",
            "Validation loss : 0.8870  /  Accuracy : 76.930  / AUROC : 0.974 \n",
            "\n",
            "[Epochs: 10  step: 0]  Train loss: 0.5920\n",
            "[Epoch 10 ends --------------------------]\n",
            "Validation loss : 0.8549  /  Accuracy : 77.301  / AUROC : 0.974 \n",
            "\n"
          ],
          "name": "stdout"
        },
        {
          "output_type": "display_data",
          "data": {
            "image/png": "[encoded data removed]",
            "text/plain": [
              "<Figure size 432x288 with 1 Axes>"
            ]
          },
          "metadata": {
            "tags": [],
            "needs_background": "light"
          }
        }
      ]
    },
    {
      "cell_type": "markdown",
      "metadata": {
        "id": "atomic-gateway"
      },
      "source": [
        "### 5-5. Result\n",
        "클래스 별 roc curve를 다음과 같이 출력하여 성능을 확인할 수 있습니다."
      ],
      "id": "atomic-gateway"
    },
    {
      "cell_type": "code",
      "metadata": {
        "id": "compliant-chaos",
        "outputId": "af0b72ae-1a27-4fcd-d4df-08e916b3cf34"
      },
      "source": [
        "plot_fpr, plot_tpr, plot_thresh, plot_roc_auc = roc_curve_raw_data\n",
        "lw=2\n",
        "# Plot all ROC curves\n",
        "plt.figure()\n",
        "\n",
        "colors = cycle(['lightcoral', 'brown', 'sandybrown',\n",
        "                'peru', 'darkorange', 'navajowhite',\n",
        "                'yellow', 'darkkhaki', 'olive', \n",
        "                'lightgreen', 'lime', 'teal',\n",
        "                'aqua', 'lightseagreen', 'deepskyblue',\n",
        "                'cornflowerblue', 'navy', 'slateblue', \n",
        "               'blueviolet', 'plum', 'pink'])\n",
        "\n",
        "for i, ((symbol, symidx), color) in enumerate(zip(symbol_idx_dict.items(), colors)):\n",
        "    plt.plot(plot_fpr[i], plot_tpr[i], color=color, lw=lw,\n",
        "             label='ROC curve of class {} (area = {:.2f})'.format(str(symbol), plot_roc_auc[i]))\n",
        "    \n",
        "plt.plot(plot_fpr[\"micro\"], plot_tpr[\"micro\"],\n",
        "     label='micro-average ROC curve (area = {0:0.2f})'\n",
        "           ''.format(plot_roc_auc[\"micro\"]),\n",
        "     color='deeppink', linestyle=':', linewidth=4)\n",
        "\n",
        "plt.plot([0, 1], [0, 1], 'k--', lw=lw)\n",
        "plt.xlim([0.0, 1.0])\n",
        "plt.ylim([0.0, 1.05])\n",
        "plt.xlabel('False Positive Rate')\n",
        "plt.ylabel('True Positive Rate')\n",
        "plt.legend(loc='center left', bbox_to_anchor=(1, 0.5))\n",
        "plt.show()"
      ],
      "id": "compliant-chaos",
      "execution_count": null,
      "outputs": [
        {
          "output_type": "display_data",
          "data": {
            "image/png": "[encoded data removed]",
            "text/plain": [
              "<Figure size 432x288 with 1 Axes>"
            ]
          },
          "metadata": {
            "tags": [],
            "needs_background": "light"
          }
        }
      ]
    },
    {
      "cell_type": "code",
      "metadata": {
        "id": "smaller-uncle"
      },
      "source": [
        ""
      ],
      "id": "smaller-uncle",
      "execution_count": null,
      "outputs": []
    },
    {
      "cell_type": "code",
      "metadata": {
        "id": "detected-southwest"
      },
      "source": [
        ""
      ],
      "id": "detected-southwest",
      "execution_count": null,
      "outputs": []
    },
    {
      "cell_type": "code",
      "metadata": {
        "id": "documented-vertex"
      },
      "source": [
        ""
      ],
      "id": "documented-vertex",
      "execution_count": null,
      "outputs": []
    },
    {
      "cell_type": "code",
      "metadata": {
        "id": "matched-ferry"
      },
      "source": [
        ""
      ],
      "id": "matched-ferry",
      "execution_count": null,
      "outputs": []
    },
    {
      "cell_type": "code",
      "metadata": {
        "id": "steady-annual"
      },
      "source": [
        ""
      ],
      "id": "steady-annual",
      "execution_count": null,
      "outputs": []
    },
    {
      "cell_type": "code",
      "metadata": {
        "id": "coral-elements"
      },
      "source": [
        ""
      ],
      "id": "coral-elements",
      "execution_count": null,
      "outputs": []
    }
  ]
}